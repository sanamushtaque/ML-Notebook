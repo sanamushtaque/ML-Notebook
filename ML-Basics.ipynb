{
 "cells": [
  {
   "cell_type": "code",
   "execution_count": 1,
   "metadata": {},
   "outputs": [],
   "source": [
    "from sklearn.datasets import load_iris\n",
    "\n",
    "iris = load_iris() #load the dataset"
   ]
  },
  {
   "cell_type": "code",
   "execution_count": 2,
   "metadata": {},
   "outputs": [
    {
     "data": {
      "text/plain": [
       "['sepal length (cm)',\n",
       " 'sepal width (cm)',\n",
       " 'petal length (cm)',\n",
       " 'petal width (cm)']"
      ]
     },
     "execution_count": 2,
     "metadata": {},
     "output_type": "execute_result"
    }
   ],
   "source": [
    "iris.feature_names #outputs the input feature vectors as array"
   ]
  },
  {
   "cell_type": "code",
   "execution_count": 4,
   "metadata": {},
   "outputs": [
    {
     "name": "stdout",
     "output_type": "stream",
     "text": [
      "Dimension of features in Training Data: (120, 4)\n",
      "Dimension of features in Testing Data: (30, 4)\n",
      "Dimension of Labels in Training Data: (120,)\n",
      "Dimension of Labels in Training Data: (30,)\n"
     ]
    }
   ],
   "source": [
    "import sklearn.model_selection as ms\n",
    "\n",
    "x_train, x_test, y_train, y_test = ms.train_test_split(iris.data, iris.target,\n",
    "                                                    test_size = 0.2) #random splitting of input data into test and training data\n",
    "print ('Dimension of features in Training Data: ' + str(x_train.shape))\n",
    "print ('Dimension of features in Testing Data: ' + str(x_test.shape))\n",
    "print ('Dimension of Labels in Training Data: ' + str(y_train.shape))\n",
    "print ('Dimension of Labels in Training Data: ' + str(y_test.shape))"
   ]
  },
  {
   "cell_type": "code",
   "execution_count": 9,
   "metadata": {},
   "outputs": [],
   "source": [
    "from sklearn.linear_model import LinearRegression\n",
    "\n",
    "linear = LinearRegression() #creation of object of LinearRegression"
   ]
  },
  {
   "cell_type": "code",
   "execution_count": 14,
   "metadata": {},
   "outputs": [],
   "source": [
    "linear.fit(x_train, y_train) #training the model using training dataset\n",
    "\n",
    "linear_train_pred = linear.predict(x_train) #getting predictions on training data\n",
    "linear_test_pred = linear.predict(x_test) #getting predictions on test data"
   ]
  },
  {
   "cell_type": "code",
   "execution_count": 15,
   "metadata": {},
   "outputs": [
    {
     "name": "stdout",
     "output_type": "stream",
     "text": [
      "Mean Square Error in Training Data: 0.0400114979145\n",
      "Mean Square Error in Testing Data: 0.0723354846411\n"
     ]
    }
   ],
   "source": [
    "from sklearn.metrics import mean_squared_error\n",
    "\n",
    "print ('Mean Square Error in Training Data: ' + str(mean_squared_error(y_train, linear_train_pred))) #calculating error on training data\n",
    "print ('Mean Square Error in Testing Data: ' + str(mean_squared_error(y_test, linear_test_pred))) #calculating error on test data"
   ]
  },
  {
   "cell_type": "code",
   "execution_count": 16,
   "metadata": {},
   "outputs": [],
   "source": [
    "from sklearn.linear_model import LogisticRegression\n",
    "\n",
    "logistic = LogisticRegression(solver='lbfgs',multi_class='multinomial') #instance of model. This is multiclass classification, \n",
    "                                                                    #hence multi_class='multinomial'."
   ]
  },
  {
   "cell_type": "code",
   "execution_count": 17,
   "metadata": {},
   "outputs": [],
   "source": [
    "logistic.fit(x_train, y_train) #training the model using training dataset\n",
    "\n",
    "logistic_train_pred = logistic.predict(x_train) #getting predictions on training data\n",
    "logistic_test_pred = logistic.predict(x_test) #getting predictions on test data"
   ]
  },
  {
   "cell_type": "code",
   "execution_count": 21,
   "metadata": {},
   "outputs": [
    {
     "name": "stdout",
     "output_type": "stream",
     "text": [
      "Mean Square Error in Training Data: 0.0166666666667\n",
      "Mean Square Error in Testing Data: 0.0666666666667\n"
     ]
    }
   ],
   "source": [
    "print ('Mean Square Error in Training Data: ' + str(mean_squared_error(y_train, logistic_train_pred))) #calculating error on training data\n",
    "print ('Mean Square Error in Testing Data: ' + str(mean_squared_error(y_test, logistic_test_pred))) #calculating error on test data"
   ]
  },
  {
   "cell_type": "code",
   "execution_count": 22,
   "metadata": {},
   "outputs": [],
   "source": [
    "from sklearn.tree import DecisionTreeClassifier\n",
    "\n",
    "dt = DecisionTreeClassifier()"
   ]
  },
  {
   "cell_type": "code",
   "execution_count": 23,
   "metadata": {},
   "outputs": [],
   "source": [
    "dt.fit(x_train, y_train) #training model\n",
    "\n",
    "dt_train_pred = dt.predict(x_train) #getting predictions on training data\n",
    "dt_test_pred = dt.predict(x_test) #getting predictions on test data"
   ]
  },
  {
   "cell_type": "code",
   "execution_count": 24,
   "metadata": {},
   "outputs": [
    {
     "name": "stdout",
     "output_type": "stream",
     "text": [
      "Mean Square Error in Training Data: 0.0\n",
      "Mean Square Error in Testing Data: 0.0666666666667\n"
     ]
    }
   ],
   "source": [
    "print ('Mean Square Error in Training Data: ' + str(mean_squared_error(y_train, dt_train_pred))) #calculating error on training data\n",
    "print ('Mean Square Error in Testing Data: ' + str(mean_squared_error(y_test, dt_test_pred))) #calculating error on test data"
   ]
  }
 ],
 "metadata": {
  "kernelspec": {
   "display_name": "Python 3.5",
   "language": "python",
   "name": "python3"
  },
  "language_info": {
   "codemirror_mode": {
    "name": "ipython",
    "version": 3
   },
   "file_extension": ".py",
   "mimetype": "text/x-python",
   "name": "python",
   "nbconvert_exporter": "python",
   "pygments_lexer": "ipython3",
   "version": "3.5.5"
  }
 },
 "nbformat": 4,
 "nbformat_minor": 1
}
